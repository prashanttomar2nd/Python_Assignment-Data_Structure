{
  "nbformat": 4,
  "nbformat_minor": 0,
  "metadata": {
    "colab": {
      "provenance": []
    },
    "kernelspec": {
      "name": "python3",
      "display_name": "Python 3"
    },
    "language_info": {
      "name": "python"
    }
  },
  "cells": [
    {
      "cell_type": "markdown",
      "source": [],
      "metadata": {
        "id": "PhH_vmkpnBhh"
      }
    },
    {
      "cell_type": "markdown",
      "source": [
        "1. What are data structures, and why are they important?\n",
        "    - Data structures are ways of organizing and storing data so that they can be accessed and modified efficiently.\n",
        "\n",
        "2. Explain the difference between mutable and immutable data types with examples?\n",
        "    - Mutable data types are those which can be change able or can be update. ex. list, set\n",
        "    - Immutable data types are those which cannot be change or cannot be update. ex. tuple.\n",
        "\n",
        "3. What are the main differences between lists and tuples in Python?\n",
        "    - List is mutable\n",
        "    - List is denoted by []\n",
        "    - Tuple is immutable\n",
        "    - Tuple is denoted by ()\n",
        "\n",
        "4. Describe how dictionaries store data?\n",
        "    - Dictionaries stores the data in the form of Key and Value pairs.\n",
        "    ex- {\"name\":\"prashant\",\"age\":25}\n",
        "\n",
        "5. Why might you use a set instead of a list in Python?\n",
        "    - we can use a set instead of a list in Python because a set automatically removes duplicates, whereas a list allows them.\n",
        "  \n",
        "6. What is a string in Python, and how is it different from a list?\n",
        "    - string is a sequence of characters enclosed in quotes \"\" or '' it is immutable and each character has and index.\n",
        "\n",
        "7. How do tuples ensure data integrity in Python?\n",
        "    - Tuples ensure data integrity because tuples are immutable once created their content cannot be changed.\n",
        "\n",
        "8. What is a hash table, and how does it relate to dictionaries in Python?\n",
        "    - hash table is a data structure that stores key-value pairs, where Each key is processed by a hash function. The hash function returns a hash code (an integer). This hash code determines where the value is stored in memory.\n",
        "\n",
        "9. Can lists contain different data types in Python?\n",
        "    - Yes list can contain different data types in python.\n",
        "\n",
        "10. Explain why strings are immutable in Python?\n",
        "    - String are immutable in python because string's each character has an index which cannot be change.\n",
        "\n",
        "11. What advantages do dictionaries offer over lists for certain tasks?\n",
        "    - You can access data by key, not index. Internally, it uses a hash table for fast lookup.\n",
        "\n",
        "12. Describe a scenario where using a tuple would be preferable over a list?\n",
        "    - list = [2,44,54]\n",
        "      list[0] = 5\n",
        "      output = [5,44,54]\n",
        "      where as in tuple cannot change.\n",
        "      tuple1 = [2,44,54]\n",
        "      tuple1[0] = 5\n",
        "      output = TypeError: 'tuple' object does not support item assignment\n",
        "\n",
        "13. How do sets handle duplicate values in Python?\n",
        "    -  set is an unordered collection of unique elements. If you add duplicate values, only one copy is kept.\n",
        "\n",
        "14. How does the “in” keyword work differently for lists and dictionaries?\n",
        "    - List :- The in keyword checks whether a specific value exists anywhere in a list by performing a linear search, which means it looks through each item one by one until it finds a match or reaches the end of the list.\n",
        "      Dict :- The in keyword checks whether a specific key exists in a dictionary by using a hash table lookup, which allows Python to quickly locate the key without searching through all entries.\n",
        "\n",
        "15. Can you modify the elements of a tuple? Explain why or why not?\n",
        "    - No, We cannot modify the elements of a tuple because tuples are immutable and cannot change the content of tuple.\n",
        "\n",
        "16. What is a nested dictionary, and give an example of its use case?\n",
        "    - A nested dictionary is a dictionary that contains another dictionary (or dictionaries) as one or more of its values.\n",
        "      example:\n",
        "      student = {\"name\": \"Alice\",\"age\": 20,\"grades\": {\"math\": 90,\n",
        "\"science\": 85,\"history\": 88}}\n",
        "\n",
        "17. D'P Describe the time complexity of accessing elements in a dictionary?\n",
        "    - Accessing elements by key in a Python dictionary generally takes O(1) time on average.This means constant time — it takes roughly the same amount of time regardless of the size of the dictionary.\n",
        "\n",
        "18. In what situations are lists preferred over dictionaries3\n",
        "    - Lists maintain the order of elements.\n",
        "      Data Is Homogeneous or Simple Collection\n",
        "      You Need Indexed Access or Slicing\n",
        "      Allowing Duplicate Values\n",
        "      When Mutability and Frequent Modifications Are Needed\n",
        "\n",
        "19. Why are dictionaries considered unordered, and how does that affect data retrieval?\n",
        "    - Dictionaries in Python were unordered because they are implemented using hash tables.Keys are stored based on their hash values, not their insertion order.This means the order of keys when iterating could appear random and change over time.\n",
        "\n",
        "20. Explain the difference between a list and a dictionary in terms of data retrieval.\n",
        "    - In list we can retrive the data based on index  and dictionary we can retrived the data based on key value pair.\n",
        "\n",
        "\n",
        "\n",
        "\n",
        "\n",
        "\n",
        "\n"
      ],
      "metadata": {
        "id": "7Gmb17dJnCxe"
      }
    },
    {
      "cell_type": "code",
      "source": [
        "# 1.Write a code to create a string with your name and print it?\n",
        "\n",
        "str  = \"Prashant Tomar\"\n",
        "print(\"My Name is\", str)"
      ],
      "metadata": {
        "colab": {
          "base_uri": "https://localhost:8080/"
        },
        "id": "vFaZqw4_nNpk",
        "outputId": "ae7d61e9-8bd7-4050-cd9f-0b98b7cb6be3"
      },
      "execution_count": 1,
      "outputs": [
        {
          "output_type": "stream",
          "name": "stdout",
          "text": [
            "My Name is Prashant Tomar\n"
          ]
        }
      ]
    },
    {
      "cell_type": "code",
      "source": [
        "# 2.Write a code to find the length of the string \"Hello World\"?\n",
        "\n",
        "str = \"Hello World\"\n",
        "print(len(str))\n"
      ],
      "metadata": {
        "colab": {
          "base_uri": "https://localhost:8080/"
        },
        "id": "y_2hBdmRntGT",
        "outputId": "6f98969e-edc4-4adb-d2b3-ea74df86e994"
      },
      "execution_count": 2,
      "outputs": [
        {
          "output_type": "stream",
          "name": "stdout",
          "text": [
            "11\n"
          ]
        }
      ]
    },
    {
      "cell_type": "code",
      "source": [
        "# 3.Write a code to slice the first 3 characters from the string \"Python Programming\"?\n",
        "\n",
        "name = \"Python Programming\"\n",
        "print(name[0:3])\n",
        "\n"
      ],
      "metadata": {
        "colab": {
          "base_uri": "https://localhost:8080/"
        },
        "id": "UUDy2g7Mo7qT",
        "outputId": "18f176a5-d949-4999-9c76-3b12d97cf3df"
      },
      "execution_count": 3,
      "outputs": [
        {
          "output_type": "stream",
          "name": "stdout",
          "text": [
            "Pyt\n"
          ]
        }
      ]
    },
    {
      "cell_type": "code",
      "source": [
        "# 4.Write a code to convert the string \"hello\" to uppercase?\n",
        "\n",
        "text = \"hello\"\n",
        "upper_text = text.upper()\n",
        "print(upper_text)"
      ],
      "metadata": {
        "colab": {
          "base_uri": "https://localhost:8080/"
        },
        "id": "bF4uKcW6pVJ4",
        "outputId": "ba5d4b80-d35d-4753-b398-3404d29744d2"
      },
      "execution_count": 7,
      "outputs": [
        {
          "output_type": "stream",
          "name": "stdout",
          "text": [
            "HELLO\n"
          ]
        }
      ]
    },
    {
      "cell_type": "code",
      "source": [
        "# 5.Write a code to replace the word \"apple\" with \"orange\" in the string \"I like apple\"?\n",
        "\n",
        "sentance = \"I like apple\"\n",
        "\n",
        "changed_sentance = sentance.replace(\"apple\",\"orange\")\n",
        "\n",
        "print(changed_sentance)\n",
        "\n"
      ],
      "metadata": {
        "colab": {
          "base_uri": "https://localhost:8080/"
        },
        "id": "J6f3oU06p5Aj",
        "outputId": "171cf6f8-54cc-4e17-9685-84eae7af24df"
      },
      "execution_count": 13,
      "outputs": [
        {
          "output_type": "stream",
          "name": "stdout",
          "text": [
            "I like orange\n"
          ]
        }
      ]
    },
    {
      "cell_type": "code",
      "source": [
        "# 6. Write a code to create a list with numbers 1 to 5 and print it?\n",
        "\n",
        "list1 = [1,2,3,4,5]\n",
        "\n",
        "print(list1)\n"
      ],
      "metadata": {
        "colab": {
          "base_uri": "https://localhost:8080/"
        },
        "id": "5xEidm-gq0bj",
        "outputId": "2594d696-8eee-411f-a1a6-fac3b3539a0c"
      },
      "execution_count": 14,
      "outputs": [
        {
          "output_type": "stream",
          "name": "stdout",
          "text": [
            "[1, 2, 3, 4, 5]\n"
          ]
        }
      ]
    },
    {
      "cell_type": "code",
      "source": [
        "# 7. Write a code to append the number 10 to the list [1, 2, 3, 4]?\n",
        "\n",
        "list1 = [1, 2, 3, 4]\n",
        "\n",
        "list1.append(10)\n",
        "print(list1)\n",
        "\n"
      ],
      "metadata": {
        "colab": {
          "base_uri": "https://localhost:8080/"
        },
        "id": "rKBvgrbTsOMK",
        "outputId": "5dca37d2-938e-4de7-9be6-92883484981a"
      },
      "execution_count": 15,
      "outputs": [
        {
          "output_type": "stream",
          "name": "stdout",
          "text": [
            "[1, 2, 3, 4, 10]\n"
          ]
        }
      ]
    },
    {
      "cell_type": "code",
      "source": [
        "# 8.Write a code to remove the number 3 from the list [1, 2, 3, 4, 5]?\n",
        "list2 = [1, 2, 3, 4, 5]\n",
        "list2.pop(2)\n",
        "print(list2)"
      ],
      "metadata": {
        "colab": {
          "base_uri": "https://localhost:8080/"
        },
        "id": "J6lcjBuTsjil",
        "outputId": "1308225b-5439-4ec1-b706-24bfa6c157c5"
      },
      "execution_count": 17,
      "outputs": [
        {
          "output_type": "stream",
          "name": "stdout",
          "text": [
            "[1, 2, 4, 5]\n"
          ]
        }
      ]
    },
    {
      "cell_type": "code",
      "source": [
        "# 9.Write a code to access the second element in the list ['a', 'b', 'c', 'd']\n",
        "\n",
        "list3 = ['a', 'b', 'c', 'd']\n",
        "\n",
        "print(list3[1])\n"
      ],
      "metadata": {
        "colab": {
          "base_uri": "https://localhost:8080/"
        },
        "id": "PFxS6Xo2s1XO",
        "outputId": "6d8f451b-7f37-48cd-8095-b3102ccc55a5"
      },
      "execution_count": 20,
      "outputs": [
        {
          "output_type": "stream",
          "name": "stdout",
          "text": [
            "b\n"
          ]
        }
      ]
    },
    {
      "cell_type": "code",
      "source": [
        "# 10.Write a code to reverse the list [10, 20, 30, 40, 50].\n",
        "\n",
        "list4 = [10, 20, 30, 40, 50]\n",
        "\n",
        "list4[::-1]"
      ],
      "metadata": {
        "colab": {
          "base_uri": "https://localhost:8080/"
        },
        "id": "j0z2u7yKtI5L",
        "outputId": "9da20530-1331-49e9-a5f6-d2edc49ae240"
      },
      "execution_count": 21,
      "outputs": [
        {
          "output_type": "execute_result",
          "data": {
            "text/plain": [
              "[50, 40, 30, 20, 10]"
            ]
          },
          "metadata": {},
          "execution_count": 21
        }
      ]
    },
    {
      "cell_type": "code",
      "source": [
        "# 11. Write a code to create a tuple with the elements 100, 200, 300 and print it.\n",
        "\n",
        "t1 = (100,200,300)\n",
        "print(type(t1),t1)"
      ],
      "metadata": {
        "colab": {
          "base_uri": "https://localhost:8080/"
        },
        "id": "hdlxyrB4tZaC",
        "outputId": "128f9b77-358e-4327-b60d-d5256bbe9cfb"
      },
      "execution_count": 23,
      "outputs": [
        {
          "output_type": "stream",
          "name": "stdout",
          "text": [
            "<class 'tuple'> (100, 200, 300)\n"
          ]
        }
      ]
    },
    {
      "cell_type": "code",
      "source": [
        "# 12. Write a code to access the second-to-last element of the tuple ('red', 'green', 'blue', 'yellow').\n",
        "\n",
        "t2 = ('red', 'green', 'blue', 'yellow')\n",
        "\n",
        "print(t2[2])\n",
        "\n"
      ],
      "metadata": {
        "colab": {
          "base_uri": "https://localhost:8080/"
        },
        "id": "jSMFOKKPtm-6",
        "outputId": "1220123f-a64b-4020-a90b-7b1652434941"
      },
      "execution_count": 25,
      "outputs": [
        {
          "output_type": "stream",
          "name": "stdout",
          "text": [
            "blue\n"
          ]
        }
      ]
    },
    {
      "cell_type": "code",
      "source": [
        "# 13. Write a code to find the minimum number in the tuple (10, 20, 5, 15).\n",
        "t3 = (10, 20, 5, 15)\n",
        "\n",
        "min_number = min(t3)\n",
        "\n",
        "print(\"Min number is\",min_number)"
      ],
      "metadata": {
        "colab": {
          "base_uri": "https://localhost:8080/"
        },
        "id": "14mEO-s6t5vj",
        "outputId": "61ab0249-3118-4eb4-ded8-e58ad4482746"
      },
      "execution_count": 28,
      "outputs": [
        {
          "output_type": "stream",
          "name": "stdout",
          "text": [
            "Min number is 5\n"
          ]
        }
      ]
    },
    {
      "cell_type": "code",
      "source": [
        "# 14. Write a code to find the index of the element \"cat\" in the tuple ('dog', 'cat', 'rabbit').\n",
        "\n",
        "t4 = ('dog', 'cat', 'rabbit')\n",
        "\n",
        "index_num = t4.index('cat')\n",
        "\n",
        "print(f\"index of cat is {index_num}\")\n"
      ],
      "metadata": {
        "colab": {
          "base_uri": "https://localhost:8080/"
        },
        "id": "VakeKwW7uM_u",
        "outputId": "70030399-8b15-4f3c-c88e-ed4bf26e5d89"
      },
      "execution_count": 33,
      "outputs": [
        {
          "output_type": "stream",
          "name": "stdout",
          "text": [
            "index of cat is 1\n"
          ]
        }
      ]
    },
    {
      "cell_type": "code",
      "source": [
        "# 15.Write a code to create a tuple containing three different fruits and check if \"kiwi\" is in it.\n",
        "\n",
        "fruits = ('apple','mango','grapes')\n",
        "\n",
        "if 'Kiwi' in fruits:\n",
        "  print(\"Yes, it is in given tuple\")\n",
        "else:\n",
        "  print(\"No, it is not present\")\n"
      ],
      "metadata": {
        "colab": {
          "base_uri": "https://localhost:8080/"
        },
        "id": "eGB8lZZVuyCt",
        "outputId": "a8e350d2-66b6-4b3e-ea0f-d1219a389fcf"
      },
      "execution_count": 34,
      "outputs": [
        {
          "output_type": "stream",
          "name": "stdout",
          "text": [
            "No, it is not present\n"
          ]
        }
      ]
    },
    {
      "cell_type": "code",
      "source": [
        "# 16.Write a code to create a set with the elements 'a', 'b', 'c' and print it.\n",
        "\n",
        "set1 = {'a','b','c'}\n",
        "\n",
        "print(type(set1),set1)"
      ],
      "metadata": {
        "colab": {
          "base_uri": "https://localhost:8080/"
        },
        "id": "0cMvyctEvsdu",
        "outputId": "9ebc5a06-a59d-43ba-bd69-3484c26f5361"
      },
      "execution_count": 35,
      "outputs": [
        {
          "output_type": "stream",
          "name": "stdout",
          "text": [
            "<class 'set'> {'c', 'a', 'b'}\n"
          ]
        }
      ]
    },
    {
      "cell_type": "code",
      "source": [
        "# 17. Write a code to clear all elements from the set {1, 2, 3, 4, 5}.\n",
        "\n",
        "set2 = {1, 2, 3, 4, 5}\n",
        "\n",
        "set2.clear()\n",
        "print(set2)"
      ],
      "metadata": {
        "colab": {
          "base_uri": "https://localhost:8080/"
        },
        "id": "oxXkJEQVv71X",
        "outputId": "1cc4de35-188c-4f88-d995-e412d725d4df"
      },
      "execution_count": 37,
      "outputs": [
        {
          "output_type": "stream",
          "name": "stdout",
          "text": [
            "set()\n"
          ]
        }
      ]
    },
    {
      "cell_type": "code",
      "source": [
        "# 18. Write a code to remove the element 4 from the set {1, 2, 3, 4}.\n",
        "\n",
        "set3 = {1, 2, 3, 4}\n",
        "set3.remove(4)\n",
        "print(set3)"
      ],
      "metadata": {
        "colab": {
          "base_uri": "https://localhost:8080/"
        },
        "id": "QZci0UUnwH8P",
        "outputId": "04afec7e-b8e8-4fcf-b1f4-a76f6a6222fa"
      },
      "execution_count": 38,
      "outputs": [
        {
          "output_type": "stream",
          "name": "stdout",
          "text": [
            "{1, 2, 3}\n"
          ]
        }
      ]
    },
    {
      "cell_type": "code",
      "source": [
        "# 19.Write a code to find the union of two sets {1, 2, 3} and {3, 4, 5}.\n",
        "\n",
        "set4 = {1, 2, 3}\n",
        "set5 = {3, 4, 5}\n",
        "\n",
        "union_set = set4.union(set5)\n",
        "print(\"Union of set is\", union_set)"
      ],
      "metadata": {
        "colab": {
          "base_uri": "https://localhost:8080/"
        },
        "id": "4eOVmP_uwuNx",
        "outputId": "4c9756b6-fcf0-4187-b15d-609c361bf470"
      },
      "execution_count": 40,
      "outputs": [
        {
          "output_type": "stream",
          "name": "stdout",
          "text": [
            "Union of set is {1, 2, 3, 4, 5}\n"
          ]
        }
      ]
    },
    {
      "cell_type": "code",
      "source": [
        "# 20. Write a code to find the intersection of two sets {1, 2, 3} and {2, 3, 4}.\n",
        "set6 = {1, 2, 3}\n",
        "set7 = {2, 3, 4}\n",
        "\n",
        "intersection_set = set6.intersection(set7)\n",
        "print(\"Intersection of two sets is\", intersection_set)\n"
      ],
      "metadata": {
        "colab": {
          "base_uri": "https://localhost:8080/"
        },
        "id": "sOdxkutdxRuT",
        "outputId": "ad4a5318-6b9a-4d7d-901f-6420a1b781cf"
      },
      "execution_count": 42,
      "outputs": [
        {
          "output_type": "stream",
          "name": "stdout",
          "text": [
            "Intersection of two sets is {2, 3}\n"
          ]
        }
      ]
    },
    {
      "cell_type": "code",
      "source": [
        "# 21. Write a code to create a dictionary with the keys \"name\", \"age\", and \"city\", and print it.\n",
        "\n",
        "dict1 =  {\"name : Prashant\",\"age : 25\",\"city : Gwalior\"}\n",
        "#print(dict1)\n",
        "print(type(dict1),dict1)"
      ],
      "metadata": {
        "colab": {
          "base_uri": "https://localhost:8080/"
        },
        "id": "tXnRPvi2xtVb",
        "outputId": "09672a67-6ef7-4ebb-e697-a3820da5ccb7"
      },
      "execution_count": 45,
      "outputs": [
        {
          "output_type": "stream",
          "name": "stdout",
          "text": [
            "{'city : Gwalior', 'name : Prashant', 'age : 25'}\n",
            "<class 'set'>\n"
          ]
        }
      ]
    },
    {
      "cell_type": "code",
      "source": [
        "# 22. Write a code to add a new key-value pair \"country\": \"USA\" to the dictionary {'name': 'John', 'age': 25}.\n",
        "\n",
        "dict2 = {'name': 'John', 'age': 25}\n",
        "dict2['country'] = 'USA'\n",
        "print(dict2)"
      ],
      "metadata": {
        "colab": {
          "base_uri": "https://localhost:8080/"
        },
        "id": "eBhX_FeQyMVG",
        "outputId": "b64ce0af-b37d-42f9-ddef-e0503d887635"
      },
      "execution_count": 47,
      "outputs": [
        {
          "output_type": "stream",
          "name": "stdout",
          "text": [
            "{'name': 'John', 'age': 25, 'country': 'USA'}\n"
          ]
        }
      ]
    },
    {
      "cell_type": "code",
      "source": [
        "# 23. Write a code to access the value associated with the key \"name\" in the dictionary {'name': 'Alice', 'age': 30}.\n",
        "\n",
        "dict3 = {'name': 'Alice', 'age': 30}\n",
        "\n",
        "dict3['name']"
      ],
      "metadata": {
        "colab": {
          "base_uri": "https://localhost:8080/",
          "height": 35
        },
        "id": "djHqUEoIzPjL",
        "outputId": "3ca62965-474d-448c-e4be-b260024f129f"
      },
      "execution_count": 49,
      "outputs": [
        {
          "output_type": "execute_result",
          "data": {
            "text/plain": [
              "'Alice'"
            ],
            "application/vnd.google.colaboratory.intrinsic+json": {
              "type": "string"
            }
          },
          "metadata": {},
          "execution_count": 49
        }
      ]
    },
    {
      "cell_type": "code",
      "source": [
        "# 24. Write a code to remove the key \"age\" from the dictionary {'name': 'Bob', 'age': 22, 'city': 'New York'}.\n",
        "\n",
        "dict4 = {'name': 'Bob', 'age': 22, 'city': 'New York'}\n",
        "\n",
        "dict4.pop('age')\n",
        "print(dict4)"
      ],
      "metadata": {
        "colab": {
          "base_uri": "https://localhost:8080/"
        },
        "id": "hAc2bxdFz3fx",
        "outputId": "5108a7cf-039c-44f7-9765-88d4dfa4c460"
      },
      "execution_count": 52,
      "outputs": [
        {
          "output_type": "stream",
          "name": "stdout",
          "text": [
            "{'name': 'Bob', 'city': 'New York'}\n"
          ]
        }
      ]
    },
    {
      "cell_type": "code",
      "source": [
        "# 25. Write a code to check if the key \"city\" exists in the dictionary {'name': 'Alice', 'city': 'Paris'}.\n",
        "\n",
        "dict5 = {'name': 'Alice', 'city': 'Paris'}\n",
        "\n",
        "if 'city' in dict5:\n",
        "  print(\"Yes, present\")\n",
        "else:\n",
        "  print(\"Not present\")"
      ],
      "metadata": {
        "colab": {
          "base_uri": "https://localhost:8080/"
        },
        "id": "oOXezZlo0QYW",
        "outputId": "a1cfc077-425e-43c0-d54d-af0b8d5daa86"
      },
      "execution_count": 53,
      "outputs": [
        {
          "output_type": "stream",
          "name": "stdout",
          "text": [
            "Yes, present\n"
          ]
        }
      ]
    },
    {
      "cell_type": "code",
      "source": [
        "# 26. Write a code to create a list, a tuple, and a dictionary, and print them all.\n",
        "\n",
        "my_list = [1,3,45,66,32,65,\"Apple\",True]\n",
        "my_tupple = (1,3,45,66,32,65,\"Apple\",True)\n",
        "my_dict = {\"name\" : \"Prashant\",\"age\" : 25}\n",
        "\n",
        "print(my_list)\n",
        "print(my_dict)\n",
        "print(my_tupple)"
      ],
      "metadata": {
        "colab": {
          "base_uri": "https://localhost:8080/"
        },
        "id": "CDOiP9Ps02B_",
        "outputId": "4ca6f409-bee0-40a3-fa16-6d85c1e71178"
      },
      "execution_count": 54,
      "outputs": [
        {
          "output_type": "stream",
          "name": "stdout",
          "text": [
            "[1, 3, 45, 66, 32, 65, 'Apple', True]\n",
            "{'name': 'Prashant', 'age': 25}\n",
            "(1, 3, 45, 66, 32, 65, 'Apple', True)\n"
          ]
        }
      ]
    },
    {
      "cell_type": "code",
      "source": [
        "# 27. Write a code to create a list of 5 random numbers between 1 and 100, sort it in ascending order, and print the result.(replaced)\n",
        "\n",
        "my_list1 = [23,32,5,34,64]\n",
        "\n",
        "my_list1.sort()\n",
        "print(my_list1)"
      ],
      "metadata": {
        "colab": {
          "base_uri": "https://localhost:8080/"
        },
        "id": "VotHTX2B1w7b",
        "outputId": "385efc0e-2990-4b28-861d-b1babea5a3ca"
      },
      "execution_count": 56,
      "outputs": [
        {
          "output_type": "stream",
          "name": "stdout",
          "text": [
            "[5, 23, 32, 34, 64]\n"
          ]
        }
      ]
    },
    {
      "cell_type": "code",
      "source": [
        "# 28. Write a code to create a list with strings and print the element at the third index.\n",
        "\n",
        "my_list2 = [\"Ayan\",\"Prashant\",\"Alok\",\"tomar\",\"Apple\",\"Mango\",\"Star\"]\n",
        "\n",
        "my_list2[3]"
      ],
      "metadata": {
        "colab": {
          "base_uri": "https://localhost:8080/",
          "height": 35
        },
        "id": "oQiPkkki2HGL",
        "outputId": "ffd2443c-4fa3-4f54-d109-37f7149eb1f8"
      },
      "execution_count": 58,
      "outputs": [
        {
          "output_type": "execute_result",
          "data": {
            "text/plain": [
              "'tomar'"
            ],
            "application/vnd.google.colaboratory.intrinsic+json": {
              "type": "string"
            }
          },
          "metadata": {},
          "execution_count": 58
        }
      ]
    },
    {
      "cell_type": "code",
      "source": [
        "# 29.Write a code to combine two dictionaries into one and print the result.\n",
        "\n",
        "my_dict1 = {\"name\":\"Prashant\",\"age\":25,\"city\":\"Noida\"}\n",
        "my_dict2 = {\"heigt\":5.8,\"place\":\"Delhi\"}\n",
        "\n",
        "my_dict1.update(my_dict2)\n",
        "print(my_dict1)"
      ],
      "metadata": {
        "colab": {
          "base_uri": "https://localhost:8080/"
        },
        "id": "6SpW5Nxh3QTM",
        "outputId": "ab724c65-5994-45a0-cd0f-c771590a2729"
      },
      "execution_count": 60,
      "outputs": [
        {
          "output_type": "stream",
          "name": "stdout",
          "text": [
            "{'name': 'Prashant', 'age': 25, 'city': 'Noida', 'heigt': 5.8, 'place': 'Delhi'}\n"
          ]
        }
      ]
    },
    {
      "cell_type": "code",
      "source": [
        "# 30. Write a code to convert a list of strings into a set.\n",
        "my_list3 = [\"Ayan\",\"Prashant\",\"Alok\",\"tomar\",\"Apple\",\"Mango\",\"Star\"]\n",
        "\n",
        "my_list4 = set(my_list3)\n",
        "print(my_list4)\n"
      ],
      "metadata": {
        "colab": {
          "base_uri": "https://localhost:8080/"
        },
        "id": "QE0DONN634Dp",
        "outputId": "33449930-149d-4cf1-f7fc-ca8d9e876d60"
      },
      "execution_count": 63,
      "outputs": [
        {
          "output_type": "stream",
          "name": "stdout",
          "text": [
            "{'tomar', 'Star', 'Mango', 'Ayan', 'Apple', 'Alok', 'Prashant'}\n"
          ]
        }
      ]
    }
  ]
}